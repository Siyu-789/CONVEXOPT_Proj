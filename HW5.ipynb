{
 "cells": [
  {
   "cell_type": "code",
   "execution_count": 1,
   "metadata": {},
   "outputs": [
    {
     "data": {
      "text/plain": [
       "array([[-3.18315117e-01],\n",
       "       [ 3.47773272e-01],\n",
       "       [-3.14429536e-01],\n",
       "       [-1.71176065e-01],\n",
       "       [-2.22907827e-01],\n",
       "       [-4.86987156e-01],\n",
       "       [ 2.54475081e-01],\n",
       "       [ 5.30264229e-04],\n",
       "       [-5.34611312e-01],\n",
       "       [ 6.46017330e-01]])"
      ]
     },
     "execution_count": 1,
     "metadata": {},
     "output_type": "execute_result"
    }
   ],
   "source": [
    "import numpy as np\n",
    "\n",
    "# Constants for the gradient method\n",
    "Gamma = 0.01\n",
    "Beta = 0.5\n",
    "i_max = 1000\n",
    "Era = 1e-3\n",
    "n = 10\n",
    "m = 20\n",
    "\n",
    "# define function\n",
    "def f(x):\n",
    "    return -np.sum(np.log(1 - A @ x)) - np.sum(np.log(1 + x)) - np.sum(np.log(1 - x))\n",
    "\n",
    "def grad_f(x):\n",
    "    return A.T @ (1 / (1 - A @ x)) - 1 / (1 + x) - 1 / (1 - x)\n",
    "\n",
    "def H_f(x)\n",
    "    return \n",
    "\n",
    "def backtracking_line_search(A, x, val, grad):\n",
    "    t = 1\n",
    "    v = -grad\n",
    "    fprime =  v\n",
    "    \n",
    "    # Check domain feasibility for x + t * v\n",
    "    while np.any(A @ (x + t * v) >= 1) or np.any(np.abs(x + t * v) >= 1):\n",
    "        t *= BETA\n",
    "    \n",
    "    # Decrease t until the sufficient decrease condition is met\n",
    "    while (-np.sum(np.log(1 - A @ (x + t * v))) - np.sum(np.log(1 + (x + t * v))) - np.sum(np.log(1 - (x + t * v))) > \n",
    "           val + ALPHA * t * fprime):\n",
    "        t *= BETA\n",
    "    \n",
    "    return t\n",
    "\n",
    "def gradient_method(A, n):\n",
    "    # Initial point\n",
    "    x = np.zeros((n, 1))\n",
    "    \n",
    "    for iter in range(1, MAXITERS + 1):\n",
    "        val = -np.sum(np.log(1 - A @ x)) - np.sum(np.log(1 + x)) - np.sum(np.log(1 - x))\n",
    "        grad = compute_gradient(A, x)\n",
    "        \n",
    "        if np.linalg.norm(grad) < GRADTOL:\n",
    "            break\n",
    "        \n",
    "        t = backtracking_line_search(A, x, val, grad)\n",
    "        x += t * (-grad)  # Gradient update\n",
    "    \n",
    "    return x\n",
    "\n",
    "# Generate a random instance of the problem (this is just an example, A must be provided in the actual use case)\n",
    "n = 10  # Dimension of the variable x\n",
    "m = 15  # Number of inequalities\n",
    "A = np.random.rand(m, n) * 2 - 1  # Generate a random A matrix with entries in [-1, 1]\n",
    "\n",
    "# Solve the optimization problem using the gradient method\n",
    "x_star = gradient_method(A, n)\n",
    "x_star"
   ]
  }
 ],
 "metadata": {
  "kernelspec": {
   "display_name": "base",
   "language": "python",
   "name": "python3"
  },
  "language_info": {
   "codemirror_mode": {
    "name": "ipython",
    "version": 3
   },
   "file_extension": ".py",
   "mimetype": "text/x-python",
   "name": "python",
   "nbconvert_exporter": "python",
   "pygments_lexer": "ipython3",
   "version": "3.9.18"
  }
 },
 "nbformat": 4,
 "nbformat_minor": 2
}
