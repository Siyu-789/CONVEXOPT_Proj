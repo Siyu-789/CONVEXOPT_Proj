{
  "cells": [
    {
      "cell_type": "raw",
      "id": "5474c0b6",
      "metadata": {},
      "source": [
        "---\n",
        "title: \"Proposal\"\n",
        "subtitle: \"\n",
        "    Proposal of Convex Optimization Term Project \n",
        "    | Due Date: April 2nd, 2024 \n",
        "    Professor: Waheed U. Bajwa\"\n",
        "author: \"Siyu Chen\"\n",
        "bibliography: references.bib\n",
        "nocite: |\n",
        "  @ESL, @textbook,@glmnet-lasso,@question1,@question2,@FISTA\n",
        "---"
      ]
    },
    {
      "cell_type": "markdown",
      "id": "f5b1235d",
      "metadata": {},
      "source": [
        "# Introduction\n",
        "\n",
        "# Rationale for the Project\n",
        "\n",
        "# Scope of the project\n"
      ]
    },
    {
      "cell_type": "code",
      "execution_count": null,
      "id": "3c918649",
      "metadata": {
        "vscode": {
          "languageId": "python"
        }
      },
      "outputs": [],
      "source": [
        "import numpy as np\n",
        "import matplotlib.pyplot as plt\n",
        "from sklearn.linear_model import Lasso\n",
        "\n",
        "# 数据\n",
        "X = np.array([[1, 2], [2, 3], [3, 4], [4, 5], [5, 6]])\n",
        "y = np.array([3, 4, 5, 6, 7])\n",
        "\n",
        "# 不同 λ 值\n",
        "lambdas = [0.1, 0.5, 1.0, 2.0]\n",
        "\n",
        "# 绘制系数路径\n",
        "plt.figure(figsize=(10, 6))\n",
        "for l in lambdas:\n",
        "    lasso = Lasso(alpha=l)\n",
        "    lasso.fit(X, y)\n",
        "    plt.plot(lasso.coef_, label=f'λ = {l}')\n",
        "\n",
        "plt.xlabel('Coefficient Index')\n",
        "plt.ylabel('Coefficient Magnitude')\n",
        "plt.title('Lasso Coefficients Path')\n",
        "plt.legend()\n",
        "plt.show()"
      ]
    },
    {
      "cell_type": "markdown",
      "id": "8b912ec4",
      "metadata": {},
      "source": [
        "# Reference\n",
        "\n",
        "\n",
        "::: {#refs}\n",
        ":::\n"
      ]
    }
  ],
  "metadata": {
    "kernelspec": {
      "display_name": "Python 3 (ipykernel)",
      "language": "python",
      "name": "python3"
    }
  },
  "nbformat": 4,
  "nbformat_minor": 5
}
